{
  "nbformat": 4,
  "nbformat_minor": 0,
  "metadata": {
    "colab": {
      "provenance": [],
      "authorship_tag": "ABX9TyPxV01PTK6ajZPkXWBrDNfN",
      "include_colab_link": true
    },
    "kernelspec": {
      "name": "python3",
      "display_name": "Python 3"
    },
    "language_info": {
      "name": "python"
    }
  },
  "cells": [
    {
      "cell_type": "markdown",
      "metadata": {
        "id": "view-in-github",
        "colab_type": "text"
      },
      "source": [
        "<a href=\"https://colab.research.google.com/github/risa1796/Parship/blob/main/BeautifulSoup_Trustpilot_Parship.ipynb\" target=\"_parent\"><img src=\"https://colab.research.google.com/assets/colab-badge.svg\" alt=\"Open In Colab\"/></a>"
      ]
    },
    {
      "cell_type": "code",
      "execution_count": 1,
      "metadata": {
        "colab": {
          "base_uri": "https://localhost:8080/"
        },
        "id": "ktxsK5DKcb_P",
        "outputId": "47d065bb-37f3-43b3-cd59-a89096f0deb6"
      },
      "outputs": [
        {
          "output_type": "stream",
          "name": "stdout",
          "text": [
            "Looking in indexes: https://pypi.org/simple, https://us-python.pkg.dev/colab-wheels/public/simple/\n",
            "Requirement already satisfied: requests in /usr/local/lib/python3.8/dist-packages (2.25.1)\n",
            "Requirement already satisfied: chardet<5,>=3.0.2 in /usr/local/lib/python3.8/dist-packages (from requests) (4.0.0)\n",
            "Requirement already satisfied: certifi>=2017.4.17 in /usr/local/lib/python3.8/dist-packages (from requests) (2022.12.7)\n",
            "Requirement already satisfied: urllib3<1.27,>=1.21.1 in /usr/local/lib/python3.8/dist-packages (from requests) (1.24.3)\n",
            "Requirement already satisfied: idna<3,>=2.5 in /usr/local/lib/python3.8/dist-packages (from requests) (2.10)\n"
          ]
        }
      ],
      "source": [
        "%pip install requests"
      ]
    },
    {
      "cell_type": "code",
      "source": [
        "import math\n",
        "import csv\n",
        "import time\n",
        "import json\n",
        "import requests\n",
        "import lxml.html as html\n",
        "from bs4 import BeautifulSoup"
      ],
      "metadata": {
        "id": "jr2KnpIIcjJO"
      },
      "execution_count": 7,
      "outputs": []
    },
    {
      "cell_type": "code",
      "source": [
        "review_titles = []\n",
        "review_contets = []\n",
        "review_dates = []\n",
        "review_replies = []\n",
        "review_reply_times = [] \n",
        "review_stars = []\n",
        "\n",
        "for i in range(1, 20):\n",
        "   # german version : https://www.de.trustpilot.com/review/www.parship.de?page={}\n",
        "   url = \"https://www.trustpilot.com/review/www.parship.de?page={}\".format(i)\n",
        "   result = requests.get(url)\n",
        "   soup = BeautifulSoup(result.content, 'html.parser')\n",
        "   reviews = soup.select(\"div > article\")\n",
        "\n",
        "   for review in reviews:\n",
        "\n",
        "     # Review stars\n",
        "      cl = review.find(class_= \"star-rating_starRating__4rrcf star-rating_medium__iN6Ty\")\n",
        "      img = cl.find(\"img\")\n",
        "      review_star = img.attrs['alt'][6]\n",
        "      review_stars.append(review_star)\n",
        "\n",
        "     # Review titles\n",
        "      review_title = review.find(class_ = \"typography_heading-s__f7029 typography_appearance-default__AAY17\")\n",
        "      review_titles.append(review_title.get_text())\n",
        "\n",
        "    # Review contents\n",
        "      review_content = review.find(class_ = \"typography_body-l__KUYFJ typography_appearance-default__AAY17 typography_color-black__5LYEn\")\n",
        "      #print(review_content.string)\n",
        "      #print(review_content.get_text())\n",
        "      if review_content is not None:\n",
        "        review_contets.append(review_content.get_text())\n",
        "      else: \n",
        "        review_contets.append(' ')\n",
        "\n",
        "    # Review dates\n",
        "      cl_t = review.time.attrs['datetime']\n",
        "      if cl_t is not None:\n",
        "        date_time = cl_t[:-5]\n",
        "        review_dates.append(date_time)\n",
        "      else:\n",
        "        review_dates.append(' ')\n",
        "\n",
        "    # Review reply\n",
        "      review_reply = review.find(class_ = \"typography_body-m__xgxZ_ typography_appearance-default__AAY17 styles_message__shHhX\")\n",
        "      if review_reply is not None: \n",
        "        review_replies.append(review_reply.get_text())\n",
        "      else: \n",
        "        review_replies.append(' ')\n",
        "\n",
        "    # reply datetime \n",
        "      cl_r = review.find(class_ = \"typography_body-m__xgxZ_ typography_appearance-subtle__8_H2l styles_replyDate__Iem0_\")\n",
        "      if cl_r is not None:\n",
        "        date_time = cl_r.attrs['datetime'][:-5]\n",
        "        review_reply_times.append(date_time)\n",
        "      else:\n",
        "        review_reply_times.append(' ')\n"
      ],
      "metadata": {
        "id": "hGsOVOc_fI7s"
      },
      "execution_count": 20,
      "outputs": []
    },
    {
      "cell_type": "code",
      "source": [
        "import pandas as pd \n",
        "\n",
        "review_data = pd.DataFrame(\n",
        "{\n",
        "   'stars': review_stars, \n",
        "   'titles':review_titles,\n",
        "   'contents':review_contets,\n",
        "   'dates':review_dates,\n",
        "   'replies':review_replies,\n",
        "   'reply_time':review_reply_times\n",
        "})\n",
        "review_data = review_data.replace('\\n','',regex=True)"
      ],
      "metadata": {
        "id": "RXZy51YOf2C_"
      },
      "execution_count": 21,
      "outputs": []
    },
    {
      "cell_type": "code",
      "source": [
        "review_data"
      ],
      "metadata": {
        "colab": {
          "base_uri": "https://localhost:8080/",
          "height": 633
        },
        "id": "Xg5nmZfQf_tO",
        "outputId": "e7dd2c5e-574b-48ca-c5be-aa9018d752db"
      },
      "execution_count": 22,
      "outputs": [
        {
          "output_type": "execute_result",
          "data": {
            "text/plain": [
              "    stars                                             titles  \\\n",
              "0       5                                  Found the one❤️❤️   \n",
              "1       5              I really appreciate the 79 Questions…   \n",
              "2       1  Either its me or Parship providing a bad service…   \n",
              "3       1                             This website is a scam   \n",
              "4       1                                 SCAMERS! BE AWARE!   \n",
              "..    ...                                                ...   \n",
              "367     5                                         Five stars   \n",
              "368     1                 Thefts. They should all go to jail   \n",
              "369     1                         Misleading payment options   \n",
              "370     1  Don't get a contract; they charge you an extre...   \n",
              "371     1                Looking for a serious dating app I…   \n",
              "\n",
              "                                              contents                dates  \\\n",
              "0    Found the one❤️❤️! Parship is the perfect to t...  2023-02-11T15:50:05   \n",
              "1    I really appreciate the 79 Questions about my ...  2023-01-29T21:55:40   \n",
              "2    Either Parship is providing a bad service or I...  2023-01-20T20:57:19   \n",
              "3    This website is a scam. They don't let you can...  2023-01-19T09:43:57   \n",
              "4    You will get randomly charged because you didn...  2023-01-26T18:07:28   \n",
              "..                                                 ...                  ...   \n",
              "367  Not all princes and princesses there, but regu...  2022-11-25T06:18:14   \n",
              "368  So sad I cant give them zero star. I cant beli...  2022-11-14T16:21:08   \n",
              "369  I signed up and agreed to pay 20 CHF for a one...  2022-10-20T17:54:34   \n",
              "370  Think twice before getting yourself a contract...  2022-10-24T13:35:54   \n",
              "371  Looking for a serious dating app I Unfortunate...  2022-12-02T23:16:57   \n",
              "\n",
              "                                               replies           reply_time  \n",
              "0    Hey Esther, so happy to hear that you found th...  2023-02-13T08:35:17  \n",
              "1    Hello Maria, thanks for your review. We‘re hap...  2023-01-31T08:25:18  \n",
              "2    Dear user, please contact our customer service...  2023-01-23T08:33:53  \n",
              "3    Hey Valerie, thanks for your review. If you ca...  2023-01-19T08:20:03  \n",
              "4    Dear Milad, the terms and conditions are commu...  2023-01-27T15:57:26  \n",
              "..                                                 ...                  ...  \n",
              "367  Dear user, thanks for your positive review! We...  2022-11-28T08:30:17  \n",
              "368  Hi Andrej, terms and conditions including the ...  2022-11-16T09:21:19  \n",
              "369  Dear user, our terms and conditions are shown ...  2022-10-20T16:09:16  \n",
              "370  Hey, thanks for your review. We‘re transparent...  2022-10-25T08:25:55  \n",
              "371  Hello, thanks for your review. We charge a pri...  2022-12-05T10:28:45  \n",
              "\n",
              "[372 rows x 6 columns]"
            ],
            "text/html": [
              "\n",
              "  <div id=\"df-77702e93-6b41-4138-a0b2-cc5f82d75711\">\n",
              "    <div class=\"colab-df-container\">\n",
              "      <div>\n",
              "<style scoped>\n",
              "    .dataframe tbody tr th:only-of-type {\n",
              "        vertical-align: middle;\n",
              "    }\n",
              "\n",
              "    .dataframe tbody tr th {\n",
              "        vertical-align: top;\n",
              "    }\n",
              "\n",
              "    .dataframe thead th {\n",
              "        text-align: right;\n",
              "    }\n",
              "</style>\n",
              "<table border=\"1\" class=\"dataframe\">\n",
              "  <thead>\n",
              "    <tr style=\"text-align: right;\">\n",
              "      <th></th>\n",
              "      <th>stars</th>\n",
              "      <th>titles</th>\n",
              "      <th>contents</th>\n",
              "      <th>dates</th>\n",
              "      <th>replies</th>\n",
              "      <th>reply_time</th>\n",
              "    </tr>\n",
              "  </thead>\n",
              "  <tbody>\n",
              "    <tr>\n",
              "      <th>0</th>\n",
              "      <td>5</td>\n",
              "      <td>Found the one❤️❤️</td>\n",
              "      <td>Found the one❤️❤️! Parship is the perfect to t...</td>\n",
              "      <td>2023-02-11T15:50:05</td>\n",
              "      <td>Hey Esther, so happy to hear that you found th...</td>\n",
              "      <td>2023-02-13T08:35:17</td>\n",
              "    </tr>\n",
              "    <tr>\n",
              "      <th>1</th>\n",
              "      <td>5</td>\n",
              "      <td>I really appreciate the 79 Questions…</td>\n",
              "      <td>I really appreciate the 79 Questions about my ...</td>\n",
              "      <td>2023-01-29T21:55:40</td>\n",
              "      <td>Hello Maria, thanks for your review. We‘re hap...</td>\n",
              "      <td>2023-01-31T08:25:18</td>\n",
              "    </tr>\n",
              "    <tr>\n",
              "      <th>2</th>\n",
              "      <td>1</td>\n",
              "      <td>Either its me or Parship providing a bad service…</td>\n",
              "      <td>Either Parship is providing a bad service or I...</td>\n",
              "      <td>2023-01-20T20:57:19</td>\n",
              "      <td>Dear user, please contact our customer service...</td>\n",
              "      <td>2023-01-23T08:33:53</td>\n",
              "    </tr>\n",
              "    <tr>\n",
              "      <th>3</th>\n",
              "      <td>1</td>\n",
              "      <td>This website is a scam</td>\n",
              "      <td>This website is a scam. They don't let you can...</td>\n",
              "      <td>2023-01-19T09:43:57</td>\n",
              "      <td>Hey Valerie, thanks for your review. If you ca...</td>\n",
              "      <td>2023-01-19T08:20:03</td>\n",
              "    </tr>\n",
              "    <tr>\n",
              "      <th>4</th>\n",
              "      <td>1</td>\n",
              "      <td>SCAMERS! BE AWARE!</td>\n",
              "      <td>You will get randomly charged because you didn...</td>\n",
              "      <td>2023-01-26T18:07:28</td>\n",
              "      <td>Dear Milad, the terms and conditions are commu...</td>\n",
              "      <td>2023-01-27T15:57:26</td>\n",
              "    </tr>\n",
              "    <tr>\n",
              "      <th>...</th>\n",
              "      <td>...</td>\n",
              "      <td>...</td>\n",
              "      <td>...</td>\n",
              "      <td>...</td>\n",
              "      <td>...</td>\n",
              "      <td>...</td>\n",
              "    </tr>\n",
              "    <tr>\n",
              "      <th>367</th>\n",
              "      <td>5</td>\n",
              "      <td>Five stars</td>\n",
              "      <td>Not all princes and princesses there, but regu...</td>\n",
              "      <td>2022-11-25T06:18:14</td>\n",
              "      <td>Dear user, thanks for your positive review! We...</td>\n",
              "      <td>2022-11-28T08:30:17</td>\n",
              "    </tr>\n",
              "    <tr>\n",
              "      <th>368</th>\n",
              "      <td>1</td>\n",
              "      <td>Thefts. They should all go to jail</td>\n",
              "      <td>So sad I cant give them zero star. I cant beli...</td>\n",
              "      <td>2022-11-14T16:21:08</td>\n",
              "      <td>Hi Andrej, terms and conditions including the ...</td>\n",
              "      <td>2022-11-16T09:21:19</td>\n",
              "    </tr>\n",
              "    <tr>\n",
              "      <th>369</th>\n",
              "      <td>1</td>\n",
              "      <td>Misleading payment options</td>\n",
              "      <td>I signed up and agreed to pay 20 CHF for a one...</td>\n",
              "      <td>2022-10-20T17:54:34</td>\n",
              "      <td>Dear user, our terms and conditions are shown ...</td>\n",
              "      <td>2022-10-20T16:09:16</td>\n",
              "    </tr>\n",
              "    <tr>\n",
              "      <th>370</th>\n",
              "      <td>1</td>\n",
              "      <td>Don't get a contract; they charge you an extre...</td>\n",
              "      <td>Think twice before getting yourself a contract...</td>\n",
              "      <td>2022-10-24T13:35:54</td>\n",
              "      <td>Hey, thanks for your review. We‘re transparent...</td>\n",
              "      <td>2022-10-25T08:25:55</td>\n",
              "    </tr>\n",
              "    <tr>\n",
              "      <th>371</th>\n",
              "      <td>1</td>\n",
              "      <td>Looking for a serious dating app I…</td>\n",
              "      <td>Looking for a serious dating app I Unfortunate...</td>\n",
              "      <td>2022-12-02T23:16:57</td>\n",
              "      <td>Hello, thanks for your review. We charge a pri...</td>\n",
              "      <td>2022-12-05T10:28:45</td>\n",
              "    </tr>\n",
              "  </tbody>\n",
              "</table>\n",
              "<p>372 rows × 6 columns</p>\n",
              "</div>\n",
              "      <button class=\"colab-df-convert\" onclick=\"convertToInteractive('df-77702e93-6b41-4138-a0b2-cc5f82d75711')\"\n",
              "              title=\"Convert this dataframe to an interactive table.\"\n",
              "              style=\"display:none;\">\n",
              "        \n",
              "  <svg xmlns=\"http://www.w3.org/2000/svg\" height=\"24px\"viewBox=\"0 0 24 24\"\n",
              "       width=\"24px\">\n",
              "    <path d=\"M0 0h24v24H0V0z\" fill=\"none\"/>\n",
              "    <path d=\"M18.56 5.44l.94 2.06.94-2.06 2.06-.94-2.06-.94-.94-2.06-.94 2.06-2.06.94zm-11 1L8.5 8.5l.94-2.06 2.06-.94-2.06-.94L8.5 2.5l-.94 2.06-2.06.94zm10 10l.94 2.06.94-2.06 2.06-.94-2.06-.94-.94-2.06-.94 2.06-2.06.94z\"/><path d=\"M17.41 7.96l-1.37-1.37c-.4-.4-.92-.59-1.43-.59-.52 0-1.04.2-1.43.59L10.3 9.45l-7.72 7.72c-.78.78-.78 2.05 0 2.83L4 21.41c.39.39.9.59 1.41.59.51 0 1.02-.2 1.41-.59l7.78-7.78 2.81-2.81c.8-.78.8-2.07 0-2.86zM5.41 20L4 18.59l7.72-7.72 1.47 1.35L5.41 20z\"/>\n",
              "  </svg>\n",
              "      </button>\n",
              "      \n",
              "  <style>\n",
              "    .colab-df-container {\n",
              "      display:flex;\n",
              "      flex-wrap:wrap;\n",
              "      gap: 12px;\n",
              "    }\n",
              "\n",
              "    .colab-df-convert {\n",
              "      background-color: #E8F0FE;\n",
              "      border: none;\n",
              "      border-radius: 50%;\n",
              "      cursor: pointer;\n",
              "      display: none;\n",
              "      fill: #1967D2;\n",
              "      height: 32px;\n",
              "      padding: 0 0 0 0;\n",
              "      width: 32px;\n",
              "    }\n",
              "\n",
              "    .colab-df-convert:hover {\n",
              "      background-color: #E2EBFA;\n",
              "      box-shadow: 0px 1px 2px rgba(60, 64, 67, 0.3), 0px 1px 3px 1px rgba(60, 64, 67, 0.15);\n",
              "      fill: #174EA6;\n",
              "    }\n",
              "\n",
              "    [theme=dark] .colab-df-convert {\n",
              "      background-color: #3B4455;\n",
              "      fill: #D2E3FC;\n",
              "    }\n",
              "\n",
              "    [theme=dark] .colab-df-convert:hover {\n",
              "      background-color: #434B5C;\n",
              "      box-shadow: 0px 1px 3px 1px rgba(0, 0, 0, 0.15);\n",
              "      filter: drop-shadow(0px 1px 2px rgba(0, 0, 0, 0.3));\n",
              "      fill: #FFFFFF;\n",
              "    }\n",
              "  </style>\n",
              "\n",
              "      <script>\n",
              "        const buttonEl =\n",
              "          document.querySelector('#df-77702e93-6b41-4138-a0b2-cc5f82d75711 button.colab-df-convert');\n",
              "        buttonEl.style.display =\n",
              "          google.colab.kernel.accessAllowed ? 'block' : 'none';\n",
              "\n",
              "        async function convertToInteractive(key) {\n",
              "          const element = document.querySelector('#df-77702e93-6b41-4138-a0b2-cc5f82d75711');\n",
              "          const dataTable =\n",
              "            await google.colab.kernel.invokeFunction('convertToInteractive',\n",
              "                                                     [key], {});\n",
              "          if (!dataTable) return;\n",
              "\n",
              "          const docLinkHtml = 'Like what you see? Visit the ' +\n",
              "            '<a target=\"_blank\" href=https://colab.research.google.com/notebooks/data_table.ipynb>data table notebook</a>'\n",
              "            + ' to learn more about interactive tables.';\n",
              "          element.innerHTML = '';\n",
              "          dataTable['output_type'] = 'display_data';\n",
              "          await google.colab.output.renderOutput(dataTable, element);\n",
              "          const docLink = document.createElement('div');\n",
              "          docLink.innerHTML = docLinkHtml;\n",
              "          element.appendChild(docLink);\n",
              "        }\n",
              "      </script>\n",
              "    </div>\n",
              "  </div>\n",
              "  "
            ]
          },
          "metadata": {},
          "execution_count": 22
        }
      ]
    },
    {
      "cell_type": "code",
      "source": [
        "from numpy import NaN\n",
        "review_data = review_data.replace(' ', NaN)"
      ],
      "metadata": {
        "id": "vYGQpNjDvnWo"
      },
      "execution_count": 25,
      "outputs": []
    },
    {
      "cell_type": "code",
      "source": [
        "review_data.info()"
      ],
      "metadata": {
        "colab": {
          "base_uri": "https://localhost:8080/"
        },
        "id": "0ysEk4cU1TId",
        "outputId": "e9f49429-4f9c-456c-b347-7299d60d5b3c"
      },
      "execution_count": 26,
      "outputs": [
        {
          "output_type": "stream",
          "name": "stdout",
          "text": [
            "<class 'pandas.core.frame.DataFrame'>\n",
            "RangeIndex: 372 entries, 0 to 371\n",
            "Data columns (total 6 columns):\n",
            " #   Column      Non-Null Count  Dtype \n",
            "---  ------      --------------  ----- \n",
            " 0   stars       372 non-null    object\n",
            " 1   titles      372 non-null    object\n",
            " 2   contents    357 non-null    object\n",
            " 3   dates       372 non-null    object\n",
            " 4   replies     260 non-null    object\n",
            " 5   reply_time  260 non-null    object\n",
            "dtypes: object(6)\n",
            "memory usage: 17.6+ KB\n"
          ]
        }
      ]
    },
    {
      "cell_type": "code",
      "source": [
        "review_data.stars.value_counts().plot.bar()"
      ],
      "metadata": {
        "colab": {
          "base_uri": "https://localhost:8080/",
          "height": 279
        },
        "id": "aMesHrnL1dqT",
        "outputId": "82b86e7c-92ac-4e01-a27d-9e174cb9ae6e"
      },
      "execution_count": 28,
      "outputs": [
        {
          "output_type": "execute_result",
          "data": {
            "text/plain": [
              "<matplotlib.axes._subplots.AxesSubplot at 0x7f96386164f0>"
            ]
          },
          "metadata": {},
          "execution_count": 28
        },
        {
          "output_type": "display_data",
          "data": {
            "text/plain": [
              "<Figure size 432x288 with 1 Axes>"
            ],
            "image/png": "[encoded data removed]"
          },
          "metadata": {
            "needs_background": "light"
          }
        }
      ]
    },
    {
      "cell_type": "markdown",
      "source": [
        "### Wordcloud for each star ratings"
      ],
      "metadata": {
        "id": "e7GEGSjw1qES"
      }
    },
    {
      "cell_type": "code",
      "source": [],
      "metadata": {
        "id": "GUOqLXXV1kLR"
      },
      "execution_count": null,
      "outputs": []
    }
  ]
}